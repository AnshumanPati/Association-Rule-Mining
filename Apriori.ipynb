{
 "cells": [
  {
   "cell_type": "code",
   "execution_count": 81,
   "metadata": {},
   "outputs": [],
   "source": [
    "import csv\n",
    "import time\n",
    "from itertools import combinations"
   ]
  },
  {
   "cell_type": "code",
   "execution_count": 82,
   "metadata": {},
   "outputs": [],
   "source": [
    "# initialize\n",
    "item_list = {}\n",
    "global_list = {}\n",
    "global_rule_list = []\n",
    "data = []"
   ]
  },
  {
   "cell_type": "code",
   "execution_count": 83,
   "metadata": {},
   "outputs": [],
   "source": [
    "# constants\n",
    "MIN_SUPPORT = 300\n",
    "MIN_CONF = 0.3"
   ]
  },
  {
   "cell_type": "code",
   "execution_count": 84,
   "metadata": {},
   "outputs": [],
   "source": [
    "#functions\n",
    "def support_check(item_list:dict):\n",
    "    # check if items have more than minimum support else remove them\n",
    "    update = {k:v for k,v in item_list.items() if v >= MIN_SUPPORT}\n",
    "    global_list.update(update)\n",
    "    return update\n",
    "\n",
    "\n",
    "# given an item list of level l generate items of level l+1\n",
    "def next_gen(item_list:dict):\n",
    "    \n",
    "    ck = {}\n",
    "    items = item_list.keys()\n",
    "    for pair in combinations(items,2):\n",
    "        a = pair[0]\n",
    "        b = pair[1]\n",
    "        # if they differ by one\n",
    "        if len(a.difference(b)) == 1:\n",
    "            ck[a.union(b)] = 0\n",
    "\n",
    "    return ck\n",
    "\n",
    "\n",
    "def get_count(item_list:dict,data:list):\n",
    "    # get counts of  each item list\n",
    "    for item in item_list.keys():\n",
    "        item_list[item] = 0\n",
    "        for row in data:\n",
    "            #row : frozenset\n",
    "            if item.issubset(row):\n",
    "                # if the set is present in the transactions icrease its frequency by one\n",
    "                item_list[item] += 1\n",
    "    return item_list"
   ]
  },
  {
   "cell_type": "code",
   "execution_count": 85,
   "metadata": {},
   "outputs": [],
   "source": [
    "# read data set\n",
    "with open(\"groceries.csv\") as data_set:\n",
    "    reader = csv.reader(data_set, delimiter=',')\n",
    "    for row in reader:\n",
    "        data.append(frozenset(row))"
   ]
  },
  {
   "cell_type": "code",
   "execution_count": 86,
   "metadata": {},
   "outputs": [],
   "source": [
    "# item list initialize\n",
    "\n",
    "for row in data:\n",
    "    for item in row:\n",
    "        item_list[frozenset([item])] = 0\n",
    "\n",
    "item_list = get_count(item_list,data)\n",
    "item_list = support_check(item_list)"
   ]
  },
  {
   "cell_type": "code",
   "execution_count": 87,
   "metadata": {},
   "outputs": [],
   "source": [
    "# generate next level until empty\n",
    "level = 1\n",
    "while True:\n",
    "    level += 1\n",
    "\n",
    "    # generate next level lists\n",
    "    item_list = next_gen(item_list)\n",
    "    item_list = get_count(item_list,data)\n",
    "    item_list =support_check(item_list)\n",
    "    if item_list == {}:\n",
    "        break"
   ]
  },
  {
   "cell_type": "markdown",
   "metadata": {},
   "source": [
    "# frequent set printing"
   ]
  },
  {
   "cell_type": "code",
   "execution_count": 88,
   "metadata": {},
   "outputs": [
    {
     "name": "stdout",
     "output_type": "stream",
     "text": [
      "['citrus fruit']\n",
      "['margarine']\n",
      "['yogurt']\n",
      "['coffee']\n",
      "['tropical fruit']\n",
      "['whole milk']\n",
      "['cream cheese']\n",
      "['pip fruit']\n",
      "['long life bakery product']\n",
      "['other vegetables']\n",
      "['butter']\n",
      "['rolls/buns']\n",
      "['UHT-milk']\n",
      "['bottled beer']\n",
      "['white bread']\n",
      "['bottled water']\n",
      "['chocolate']\n",
      "['curd']\n",
      "['beef']\n",
      "['frankfurter']\n",
      "['soda']\n",
      "['chicken']\n",
      "['newspapers']\n",
      "['fruit/vegetable juice']\n",
      "['sugar']\n",
      "['pastry']\n",
      "['waffles']\n",
      "['salty snack']\n",
      "['root vegetables']\n",
      "['canned beer']\n",
      "['sausage']\n",
      "['brown bread']\n",
      "['shopping bags']\n",
      "['hygiene articles']\n",
      "['hamburger meat']\n",
      "['napkins']\n",
      "['whipped/sour cream']\n",
      "['pork']\n",
      "['berries']\n",
      "['dessert']\n",
      "['domestic eggs']\n",
      "['frozen vegetables']\n",
      "['onions']\n",
      "['citrus fruit', 'whole milk']\n",
      "['whole milk', 'yogurt']\n",
      "['yogurt', 'other vegetables']\n",
      "['rolls/buns', 'yogurt']\n",
      "['whole milk', 'tropical fruit']\n",
      "['other vegetables', 'tropical fruit']\n",
      "['whole milk', 'other vegetables']\n",
      "['rolls/buns', 'whole milk']\n",
      "['whole milk', 'bottled water']\n",
      "['soda', 'whole milk']\n",
      "['pastry', 'whole milk']\n",
      "['whole milk', 'root vegetables']\n",
      "['whipped/sour cream', 'whole milk']\n",
      "['rolls/buns', 'other vegetables']\n",
      "['soda', 'other vegetables']\n",
      "['root vegetables', 'other vegetables']\n",
      "['rolls/buns', 'soda']\n",
      "['sausage', 'rolls/buns']\n"
     ]
    }
   ],
   "source": [
    "for i in global_list.keys():\n",
    "    print(list(i))"
   ]
  },
  {
   "cell_type": "code",
   "execution_count": 89,
   "metadata": {},
   "outputs": [],
   "source": [
    "def giveconfidence(temp_lhs, temp_rhs):\n",
    "    return global_list[frozenset(temp_rhs).union(frozenset(temp_lhs))] / (global_list[frozenset(temp_lhs)])"
   ]
  },
  {
   "cell_type": "code",
   "execution_count": 90,
   "metadata": {},
   "outputs": [],
   "source": [
    "#function for Rules\n",
    "def rule_gen(item_set):\n",
    "    # rule generator given an item_set based on apriori principle\n",
    " \n",
    "    item_set = list(item_set)\n",
    "    if len(item_set) == 1:\n",
    "        return None\n",
    "    \n",
    "    lhs = item_set\n",
    "    rhs = []\n",
    "    rules = [(lhs,rhs)]\n",
    "    while len(rules) > 0:\n",
    "        rule = rules[0]\n",
    "        lhs = rule[0]\n",
    "        rhs = rule[1]\n",
    "\n",
    "        for i in lhs:\n",
    "            temp_lhs,temp_rhs = lhs,rhs\n",
    "            # remove one from lhs and add it to rhs\n",
    "            temp_lhs.remove(i)\n",
    "            temp_rhs.append(i)\n",
    "            if temp_lhs == []:\n",
    "                continue\n",
    "            if giveconfidence(temp_lhs, temp_rhs) > MIN_CONF:\n",
    "                # if conf is greater than given value add to the total list\n",
    "                global_rule_list.append((temp_lhs,temp_rhs))\n",
    "                print(\"{} -> {}\".format(temp_lhs,temp_rhs))\n",
    "                if len(temp_lhs) > 1:\n",
    "                    rules.append((temp_lhs,temp_rhs))\n",
    "\n",
    "        rules.remove(rule)"
   ]
  },
  {
   "cell_type": "code",
   "execution_count": 91,
   "metadata": {},
   "outputs": [
    {
     "name": "stdout",
     "output_type": "stream",
     "text": [
      "['yogurt'] -> ['whole milk']\n",
      "['tropical fruit'] -> ['whole milk']\n",
      "['tropical fruit'] -> ['other vegetables']\n",
      "['other vegetables'] -> ['whole milk']\n",
      "['bottled water'] -> ['whole milk']\n",
      "['root vegetables'] -> ['whole milk']\n"
     ]
    }
   ],
   "source": [
    "for item_set in global_list.keys():\n",
    "    item_list = list(item_set)\n",
    "    rule_gen(item_set)"
   ]
  },
  {
   "cell_type": "markdown",
   "metadata": {},
   "source": [
    "# Closed and Maximal"
   ]
  },
  {
   "cell_type": "code",
   "execution_count": 92,
   "metadata": {},
   "outputs": [],
   "source": [
    "#initialized with true\n",
    "maximal = {k:True for k in global_list.keys()}\n",
    "closed = {k:True for k in global_list.keys()}"
   ]
  },
  {
   "cell_type": "code",
   "execution_count": 76,
   "metadata": {},
   "outputs": [],
   "source": [
    "similar_pairs = []\n",
    "for i in global_list.keys():\n",
    "    for j in global_list.keys():\n",
    "        if i != j:\n",
    "            if i.issubset(j):\n",
    "                # if its superset exists in frequent item set then it is not maximal\n",
    "                maximal[i] = False\n",
    "            if i.issubset(j) and global_list[i] == global_list[j]:\n",
    "                similar_pairs.append((i,j)) # i = X,j = X'\n",
    "                # if its superset has frequency equal to its own then it is not closed\n",
    "                closed[i] = False"
   ]
  },
  {
   "cell_type": "code",
   "execution_count": 77,
   "metadata": {},
   "outputs": [
    {
     "name": "stdout",
     "output_type": "stream",
     "text": [
      "{frozenset({'citrus fruit'}): True, frozenset({'margarine'}): True, frozenset({'yogurt'}): True, frozenset({'coffee'}): True, frozenset({'tropical fruit'}): True, frozenset({'whole milk'}): True, frozenset({'cream cheese'}): True, frozenset({'pip fruit'}): True, frozenset({'long life bakery product'}): True, frozenset({'other vegetables'}): True, frozenset({'butter'}): True, frozenset({'rolls/buns'}): True, frozenset({'UHT-milk'}): True, frozenset({'bottled beer'}): True, frozenset({'white bread'}): True, frozenset({'bottled water'}): True, frozenset({'chocolate'}): True, frozenset({'curd'}): True, frozenset({'beef'}): True, frozenset({'frankfurter'}): True, frozenset({'soda'}): True, frozenset({'chicken'}): True, frozenset({'newspapers'}): True, frozenset({'fruit/vegetable juice'}): True, frozenset({'sugar'}): True, frozenset({'pastry'}): True, frozenset({'waffles'}): True, frozenset({'salty snack'}): True, frozenset({'root vegetables'}): True, frozenset({'canned beer'}): True, frozenset({'sausage'}): True, frozenset({'brown bread'}): True, frozenset({'shopping bags'}): True, frozenset({'hygiene articles'}): True, frozenset({'hamburger meat'}): True, frozenset({'napkins'}): True, frozenset({'whipped/sour cream'}): True, frozenset({'pork'}): True, frozenset({'berries'}): True, frozenset({'dessert'}): True, frozenset({'domestic eggs'}): True, frozenset({'frozen vegetables'}): True, frozenset({'onions'}): True, frozenset({'citrus fruit', 'whole milk'}): True, frozenset({'whole milk', 'yogurt'}): True, frozenset({'yogurt', 'other vegetables'}): True, frozenset({'rolls/buns', 'yogurt'}): True, frozenset({'whole milk', 'tropical fruit'}): True, frozenset({'other vegetables', 'tropical fruit'}): True, frozenset({'whole milk', 'other vegetables'}): True, frozenset({'rolls/buns', 'whole milk'}): True, frozenset({'whole milk', 'bottled water'}): True, frozenset({'soda', 'whole milk'}): True, frozenset({'pastry', 'whole milk'}): True, frozenset({'whole milk', 'root vegetables'}): True, frozenset({'whipped/sour cream', 'whole milk'}): True, frozenset({'rolls/buns', 'other vegetables'}): True, frozenset({'soda', 'other vegetables'}): True, frozenset({'root vegetables', 'other vegetables'}): True, frozenset({'rolls/buns', 'soda'}): True, frozenset({'sausage', 'rolls/buns'}): True}\n"
     ]
    }
   ],
   "source": [
    "# all closed items\n",
    "print({k:v for (k,v) in closed.items() if v == True})"
   ]
  },
  {
   "cell_type": "code",
   "execution_count": 78,
   "metadata": {},
   "outputs": [
    {
     "name": "stdout",
     "output_type": "stream",
     "text": [
      "[['margarine'], ['coffee'], ['cream cheese'], ['pip fruit'], ['long life bakery product'], ['butter'], ['UHT-milk'], ['bottled beer'], ['white bread'], ['chocolate'], ['curd'], ['beef'], ['frankfurter'], ['chicken'], ['newspapers'], ['fruit/vegetable juice'], ['sugar'], ['waffles'], ['salty snack'], ['canned beer'], ['brown bread'], ['shopping bags'], ['hygiene articles'], ['hamburger meat'], ['napkins'], ['pork'], ['berries'], ['dessert'], ['domestic eggs'], ['frozen vegetables'], ['onions'], ['citrus fruit', 'whole milk'], ['whole milk', 'yogurt'], ['yogurt', 'other vegetables'], ['rolls/buns', 'yogurt'], ['whole milk', 'tropical fruit'], ['other vegetables', 'tropical fruit'], ['whole milk', 'other vegetables'], ['rolls/buns', 'whole milk'], ['whole milk', 'bottled water'], ['soda', 'whole milk'], ['pastry', 'whole milk'], ['whole milk', 'root vegetables'], ['whipped/sour cream', 'whole milk'], ['rolls/buns', 'other vegetables'], ['soda', 'other vegetables'], ['root vegetables', 'other vegetables'], ['rolls/buns', 'soda'], ['sausage', 'rolls/buns']]\n"
     ]
    }
   ],
   "source": [
    "# all maximal items\n",
    "print([list(k) for (k,v) in maximal.items() if v == True])"
   ]
  },
  {
   "cell_type": "markdown",
   "metadata": {},
   "source": [
    "# Redundant Rules"
   ]
  },
  {
   "cell_type": "code",
   "execution_count": 79,
   "metadata": {},
   "outputs": [],
   "source": [
    "# find redundant rules\n",
    "redundant_rules = []\n",
    "for pair1 in similar_pairs:\n",
    "    for pair2 in similar_pairs:\n",
    "        if pair1 != pair2 :\n",
    "            lhs = frozenset(pair1[1])\n",
    "            rhs = frozenset(pair2[1])\n",
    "            conf = global_list[lhs.union(rhs)] / global_list[lhs]\n",
    "            if conf > MIN_CONF:\n",
    "                redundant_rules.append(pair1[0],pair2[0])"
   ]
  },
  {
   "cell_type": "code",
   "execution_count": 80,
   "metadata": {},
   "outputs": [
    {
     "name": "stdout",
     "output_type": "stream",
     "text": [
      "[]\n"
     ]
    }
   ],
   "source": [
    "print(redundant_rules)"
   ]
  },
  {
   "cell_type": "code",
   "execution_count": null,
   "metadata": {},
   "outputs": [],
   "source": []
  }
 ],
 "metadata": {
  "kernelspec": {
   "display_name": "Python 3",
   "language": "python",
   "name": "python3"
  },
  "language_info": {
   "codemirror_mode": {
    "name": "ipython",
    "version": 3
   },
   "file_extension": ".py",
   "mimetype": "text/x-python",
   "name": "python",
   "nbconvert_exporter": "python",
   "pygments_lexer": "ipython3",
   "version": "3.7.1"
  }
 },
 "nbformat": 4,
 "nbformat_minor": 2
}
